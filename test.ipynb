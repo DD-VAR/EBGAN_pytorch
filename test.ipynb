{
 "cells": [
  {
   "cell_type": "code",
   "execution_count": 1,
   "metadata": {
    "collapsed": true
   },
   "outputs": [],
   "source": [
    "import cv2\n",
    "\n",
    "import os.path\n",
    "from glob import glob\n",
    "\n",
    "def detect(filename, cascade_file=\"lbpcascade_animeface.xml\"):\n",
    "    if not os.path.isfile(cascade_file):\n",
    "        raise RuntimeError(\"%s: not found\" % cascade_file)\n",
    "\n",
    "    cascade = cv2.CascadeClassifier(cascade_file)\n",
    "    image = cv2.imread(filename)\n",
    "    gray = cv2.cvtColor(image, cv2.COLOR_BGR2GRAY)\n",
    "    gray = cv2.equalizeHist(gray)\n",
    "\n",
    "    faces = cascade.detectMultiScale(gray,\n",
    "                                     # detector options\n",
    "                                     scaleFactor=1.1,\n",
    "                                     minNeighbors=5,\n",
    "                                     minSize=(48, 48))\n",
    "    for i, (x, y, w, h) in enumerate(faces):\n",
    "        face = image[y: y + h, x:x + w, :]\n",
    "        face = cv2.resize(face, (96, 96))\n",
    "        save_filename = '%s-%d.jpg' % (os.path.basename(filename).split('.')[0], i)\n",
    "        cv2.imwrite(\"faces/\" + save_filename, face)"
   ]
  },
  {
   "cell_type": "code",
   "execution_count": null,
   "metadata": {},
   "outputs": [],
   "source": [
    "if True:\n",
    "    if os.path.exists('faces') is False:\n",
    "        os.makedirs('faces')\n",
    "file_list = glob('imgs/*.jpg')\n",
    "    for filename in file_list:\n",
    "        detect(filename)"
   ]
  }
 ],
 "metadata": {
  "kernelspec": {
   "display_name": "Python 2",
   "language": "python",
   "name": "python2"
  },
  "language_info": {
   "codemirror_mode": {
    "name": "ipython",
    "version": 2.0
   },
   "file_extension": ".py",
   "mimetype": "text/x-python",
   "name": "python",
   "nbconvert_exporter": "python",
   "pygments_lexer": "ipython2",
   "version": "2.7.6"
  }
 },
 "nbformat": 4,
 "nbformat_minor": 0
}